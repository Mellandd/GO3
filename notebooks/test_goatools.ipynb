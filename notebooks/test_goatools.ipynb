{
 "cells": [
  {
   "cell_type": "code",
   "execution_count": 1,
   "id": "ee67354e",
   "metadata": {},
   "outputs": [],
   "source": [
    "import go3\n",
    "\n",
    "go3.load_go_terms()\n",
    "annots = go3.load_gaf(\"../go3/src/goa_human.gaf\")\n",
    "tc_rust = go3.build_term_counter(annots)"
   ]
  },
  {
   "cell_type": "code",
   "execution_count": 4,
   "id": "51da9519",
   "metadata": {},
   "outputs": [
    {
     "name": "stdout",
     "output_type": "stream",
     "text": [
      "go-basic.obo: fmt(1.2) rel(2025-03-16) 43,544 Terms\n",
      "HMS:0:00:08.995412 969,176 annotations READ: goa_human.gaf \n",
      "36411 IDs in loaded association branch, BP\n"
     ]
    }
   ],
   "source": [
    "from goatools.obo_parser import GODag\n",
    "from goatools.associations import dnld_assc\n",
    "from goatools.semantic import TermCounts, resnik_sim\n",
    "\n",
    "obo_path = \"go-basic.obo\"\n",
    "gaf_path = \"goa_human.gaf\"\n",
    "godag = GODag(obo_path)\n",
    "assocs = dnld_assc(gaf_path, godag)\n",
    "termcounts = TermCounts(godag, assocs)"
   ]
  },
  {
   "cell_type": "code",
   "execution_count": 2,
   "id": "73fd35b5",
   "metadata": {},
   "outputs": [
    {
     "name": "stdout",
     "output_type": "stream",
     "text": [
      "4.272783893072207\n",
      "4.570337714003141\n",
      "Counts: 509\n",
      "IC: 4.272783893072207\n"
     ]
    }
   ],
   "source": [
    "go_id_1, go_id_2 = \"GO:0006397\", \"GO:0008380\"\n",
    "print(go3.term_ic(go_id_1, tc_rust))\n",
    "print(go3.term_ic(go_id_2, tc_rust))\n",
    "go3.resnik_similarity(go_id_1, go_id_2, tc_rust)\n",
    "\n",
    "print(\"Counts:\", tc_rust.counts[go_id_1])\n",
    "#print(\"Total by namespace:\", tc_rust.total_by_ns[\"BP\"])\n",
    "print(\"IC:\", tc_rust.ic[go_id_1])"
   ]
  },
  {
   "cell_type": "code",
   "execution_count": 6,
   "id": "9c6b0dba",
   "metadata": {},
   "outputs": [
    {
     "name": "stdout",
     "output_type": "stream",
     "text": [
      "4.270178189223948\n",
      "4.5677320101548835\n",
      "Counts for GO:0006397: 509\n"
     ]
    }
   ],
   "source": [
    "from goatools.semantic import get_info_content\n",
    "\n",
    "print(get_info_content(go_id_1, termcounts=termcounts))\n",
    "print(get_info_content(go_id_2, termcounts=termcounts))\n",
    "resnik_sim(go_id_1, go_id_2, termcounts=termcounts, godag=godag)\n",
    "print(f\"Counts for {go_id_1}: {termcounts.get_count(go_id_1)}\")"
   ]
  }
 ],
 "metadata": {
  "kernelspec": {
   "display_name": "base",
   "language": "python",
   "name": "python3"
  },
  "language_info": {
   "codemirror_mode": {
    "name": "ipython",
    "version": 3
   },
   "file_extension": ".py",
   "mimetype": "text/x-python",
   "name": "python",
   "nbconvert_exporter": "python",
   "pygments_lexer": "ipython3",
   "version": "3.12.2"
  }
 },
 "nbformat": 4,
 "nbformat_minor": 5
}
